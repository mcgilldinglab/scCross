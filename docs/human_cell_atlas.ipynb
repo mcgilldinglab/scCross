{
 "cells": [
  {
   "cell_type": "code",
   "execution_count": null,
   "id": "5fc326a9",
   "metadata": {},
   "outputs": [],
   "source": [
    "import anndata\n",
    "import scanpy as sc\n",
    "import sccross\n",
    "import pandas as pd\n",
    "import numpy as np\n",
    "from matplotlib import rcParams\n",
    "from sklearn.metrics import adjusted_rand_score,normalized_mutual_info_score"
   ]
  },
  {
   "cell_type": "markdown",
   "id": "cf0b8f9a",
   "metadata": {},
   "source": [
    "# Read data"
   ]
  },
  {
   "cell_type": "code",
   "execution_count": null,
   "id": "7035bb6e",
   "metadata": {},
   "outputs": [],
   "source": [
    "rcParams[\"figure.figsize\"] = (4, 4)\n",
    "rna = anndata.read_h5ad(\"../data/human_cell_atlas/rna_preprocessed.h5ad\")\n",
    "atac = anndata.read_h5ad(\"../data/human_cell_atlas/atac_preprocessed.h5ad\")"
   ]
  },
  {
   "cell_type": "markdown",
   "id": "1f360453",
   "metadata": {},
   "source": [
    "# meta cell"
   ]
  },
  {
   "cell_type": "code",
   "execution_count": null,
   "id": "04d36d21",
   "metadata": {},
   "outputs": [],
   "source": [
    "sc.pp.neighbors(rna, n_pcs=rna.obsm[\"X_pca\"].shape[1], use_rep=\"X_pca\", metric=\"cosine\")\n",
    "sc.tl.leiden(rna)\n",
    "rna.obs['metacell'] = rna.obs['leiden']\n",
    "\n",
    "rna_agg = sccross.data.aggregate_obs(\n",
    "    rna, by=\"metacell\", X_agg=\"sum\",\n",
    "    obs_agg={\n",
    "        \"cell_type\": \"majority\", \"Organ\": \"majority\", \"domain\": \"majority\",\n",
    "        \"n_cells\": \"sum\", \"organ_balancing\": \"sum\"\n",
    "    },\n",
    "    obsm_agg={\"X_pca\": \"mean\", \"X_umap\": \"mean\"}\n",
    ")\n",
    "\n",
    "\n",
    "atac_agg = sccross.data.aggregate_obs(\n",
    "    atac, by=\"metacell\", X_agg=\"sum\",\n",
    "    obs_agg={\n",
    "        \"cell_type\": \"majority\", \"tissue\": \"majority\", \"domain\": \"majority\",\n",
    "        \"n_cells\": \"sum\", \"organ_balancing\": \"sum\"\n",
    "    },\n",
    "    obsm_agg={\"X_lsi\": \"mean\", \"X_umap\": \"mean\"}\n",
    ")"
   ]
  },
  {
   "cell_type": "markdown",
   "id": "11e046cf",
   "metadata": {},
   "source": [
    "# Configure data"
   ]
  },
  {
   "cell_type": "code",
   "execution_count": null,
   "id": "645a65db",
   "metadata": {},
   "outputs": [],
   "source": [
    "sccross.models.configure_dataset(\n",
    "    rna, \"NB\", use_highly_variable=True,\n",
    "    use_layer = 'counts',\n",
    "     use_rep=\"X_pca\"\n",
    ")\n",
    "\n",
    "sccross.models.configure_dataset(\n",
    "    atac, \"NB\", use_highly_variable=False,\n",
    "    use_rep=\"X_lsi\"\n",
    ")"
   ]
  },
  {
   "cell_type": "markdown",
   "id": "821c92fb",
   "metadata": {},
   "source": [
    "# MNN prior"
   ]
  },
  {
   "cell_type": "code",
   "execution_count": null,
   "id": "9ef28d3c",
   "metadata": {},
   "outputs": [],
   "source": [
    "sccross.data.mnn_prior([rna_agg,atac_agg])\n",
    "\n",
    "for i in range(len(rna.obs)):\n",
    "    rna[i].obsm['X_pca'] = np.concatenate((rna[i].obsm['X_pca'], rna_agg[rna_agg.obs['metacell']==rna[i].obs['metacell']].obsm['X_pca'][-50:]), axis=1)\n",
    "\n",
    "for i in range(len(atac.obs)):\n",
    "    atac[i].obsm['X_lsi'] = np.concatenate((atac[i].obsm['X_lsi'], atac_agg[atac_agg.obs['metacell']==atac[i].obs['metacell']].obsm['X_lsi'][-50:]), axis=1)"
   ]
  },
  {
   "cell_type": "markdown",
   "id": "53b2cb53",
   "metadata": {},
   "source": [
    "# Training"
   ]
  },
  {
   "cell_type": "code",
   "execution_count": null,
   "id": "2a590b7f",
   "metadata": {},
   "outputs": [],
   "source": [
    "cross = sccross.models.fit_SCCROSS(\n",
    "    {\"rna\": rna, \"atac\": atac},\n",
    "    fit_kws={\"directory\": \"sccross\"}\n",
    ")"
   ]
  },
  {
   "cell_type": "markdown",
   "id": "1f3d244a",
   "metadata": {},
   "source": [
    "# Save model"
   ]
  },
  {
   "cell_type": "code",
   "execution_count": null,
   "id": "7b0b04fd",
   "metadata": {},
   "outputs": [],
   "source": [
    "cross.save(\"cross.dill\")"
   ]
  },
  {
   "cell_type": "markdown",
   "id": "63703c53",
   "metadata": {},
   "source": [
    "# Integration benchmark"
   ]
  },
  {
   "cell_type": "code",
   "execution_count": null,
   "id": "a714eb62",
   "metadata": {},
   "outputs": [],
   "source": [
    "rna.obsm[\"X_cross\"] = cross.encode_data(\"rna\", rna)\n",
    "atac.obsm[\"X_cross\"] = cross.encode_data(\"atac\", atac)"
   ]
  },
  {
   "cell_type": "code",
   "execution_count": null,
   "id": "41c6ff53",
   "metadata": {},
   "outputs": [],
   "source": [
    "combined = anndata.concat([rna, atac])\n",
    "\n",
    "sc.pp.neighbors(combined, use_rep=\"X_cross\", metric=\"cosine\")\n",
    "sc.tl.umap(combined)\n",
    "sc.pl.umap(combined, color=[\"cell_type\", \"domain\"], wspace=0.65, save='integration.pdf')\n",
    "\n",
    "sc.tl.leiden(rna)\n",
    "sc.tl.leiden(atac)\n",
    "\n",
    "ARI = adjusted_rand_score(rna.obs['cell_type'], rna.obs['leiden'])\n",
    "NMI = normalized_mutual_info_score(rna.obs['cell_type'],rna.obs['leiden'])\n",
    "print(\"RNA:ARI: \"+str(ARI)+\"  \"+\"NMI: \"+str(NMI))\n",
    "\n",
    "\n",
    "ARI = adjusted_rand_score(atac.obs['cell_type'], atac.obs['leiden'])\n",
    "NMI = normalized_mutual_info_score(atac.obs['cell_type'],atac.obs['leiden'])\n",
    "print(\"ATAC:ARI: \"+str(ARI)+\"  \"+\"NMI: \"+str(NMI))\n",
    "\n",
    "ASW = sccross.metrics.avg_silhouette_width(combined.obsm['X_cross'],combined.obs['cell_type'])\n",
    "ASWb = sccross.metrics.avg_silhouette_width_batch(combined.obsm['X_cross'],combined.obs['domain'],combined.obs['cell_type'])\n",
    "GCT = sccross.metrics.graph_connectivity(combined.obsm['X_cross'],combined.obs['cell_type'])\n",
    "print(\"ASW: \"+str(ASW)+\"ASWb: \"+str(ASWb)+\"GCT: \"+str(GCT))"
   ]
  }
 ],
 "metadata": {
  "kernelspec": {
   "display_name": "Python 3",
   "language": "python",
   "name": "python3"
  },
  "language_info": {
   "codemirror_mode": {
    "name": "ipython",
    "version": 3
   },
   "file_extension": ".py",
   "mimetype": "text/x-python",
   "name": "python",
   "nbconvert_exporter": "python",
   "pygments_lexer": "ipython3",
   "version": "3.7.6"
  }
 },
 "nbformat": 4,
 "nbformat_minor": 5
}
