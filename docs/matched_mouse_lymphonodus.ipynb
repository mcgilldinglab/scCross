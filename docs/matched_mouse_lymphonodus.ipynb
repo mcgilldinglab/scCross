{
 "cells": [
  {
   "cell_type": "code",
   "execution_count": null,
   "id": "8042fcaf",
   "metadata": {},
   "outputs": [],
   "source": [
    "import anndata\n",
    "import scanpy as sc\n",
    "import sccross\n",
    "import pandas as pd\n",
    "from matplotlib import rcParams\n",
    "from sklearn.metrics import adjusted_rand_score,normalized_mutual_info_score"
   ]
  },
  {
   "cell_type": "markdown",
   "id": "02eba495",
   "metadata": {},
   "source": [
    "# Read data"
   ]
  },
  {
   "cell_type": "code",
   "execution_count": null,
   "id": "be895236",
   "metadata": {},
   "outputs": [],
   "source": [
    "rcParams[\"figure.figsize\"] = (4, 4)\n",
    "rna = anndata.read_h5ad(\"../data/matched_mouse_lymphonodus/rna_preprocessed.h5ad\")\n",
    "atac = anndata.read_h5ad(\"../data/matched_mouse_lymphonodus/atac_preprocessed.h5ad\")"
   ]
  },
  {
   "cell_type": "markdown",
   "id": "48e0d8a8",
   "metadata": {},
   "source": [
    "# Configure data"
   ]
  },
  {
   "cell_type": "code",
   "execution_count": null,
   "id": "e935b2d3",
   "metadata": {},
   "outputs": [],
   "source": [
    "sccross.models.configure_dataset(\n",
    "    rna, \"NB\", use_highly_variable=True,\n",
    "    use_layer = 'counts',\n",
    "     use_rep=\"X_pca\"\n",
    ")\n",
    "\n",
    "sccross.models.configure_dataset(\n",
    "    atac, \"NB\", use_highly_variable=False,\n",
    "    use_rep=\"X_lsi\"\n",
    ")"
   ]
  },
  {
   "cell_type": "markdown",
   "id": "a0bd9ec9",
   "metadata": {},
   "source": [
    "# MNN prior"
   ]
  },
  {
   "cell_type": "code",
   "execution_count": null,
   "id": "51ba4027",
   "metadata": {},
   "outputs": [],
   "source": [
    "sccross.data.mnn_prior([rna,atac])"
   ]
  },
  {
   "cell_type": "markdown",
   "id": "bec43b66",
   "metadata": {},
   "source": [
    "# Training"
   ]
  },
  {
   "cell_type": "code",
   "execution_count": null,
   "id": "879b6966",
   "metadata": {},
   "outputs": [],
   "source": [
    "cross = sccross.models.fit_SCCROSS(\n",
    "    {\"rna\": rna, \"atac\": atac},\n",
    "    fit_kws={\"directory\": \"sccross\"}\n",
    ")"
   ]
  },
  {
   "cell_type": "markdown",
   "id": "9a5654fc",
   "metadata": {},
   "source": [
    "# Save model"
   ]
  },
  {
   "cell_type": "code",
   "execution_count": null,
   "id": "1a0bdd56",
   "metadata": {},
   "outputs": [],
   "source": [
    "cross.save(\"cross.dill\")"
   ]
  },
  {
   "cell_type": "markdown",
   "id": "021f7b88",
   "metadata": {},
   "source": [
    "# Integration benchmark"
   ]
  },
  {
   "cell_type": "code",
   "execution_count": null,
   "id": "497fe742",
   "metadata": {},
   "outputs": [],
   "source": [
    "rna.obsm[\"X_cross\"] = cross.encode_data(\"rna\", rna)\n",
    "atac.obsm[\"X_cross\"] = cross.encode_data(\"atac\", atac)"
   ]
  },
  {
   "cell_type": "code",
   "execution_count": null,
   "id": "f028d546",
   "metadata": {},
   "outputs": [],
   "source": [
    "combined = anndata.concat([rna, atac])\n",
    "\n",
    "sc.pp.neighbors(combined, use_rep=\"X_cross\", metric=\"cosine\")\n",
    "sc.tl.umap(combined)\n",
    "sc.pl.umap(combined, color=[\"cell_type\", \"domain\"], wspace=0.65, save='integration.pdf')\n",
    "\n",
    "sc.tl.leiden(rna)\n",
    "sc.tl.leiden(atac)\n",
    "\n",
    "ARI = adjusted_rand_score(rna.obs['cell_type'], rna.obs['leiden'])\n",
    "NMI = normalized_mutual_info_score(rna.obs['cell_type'],rna.obs['leiden'])\n",
    "print(\"RNA:ARI: \"+str(ARI)+\"  \"+\"NMI: \"+str(NMI))\n",
    "\n",
    "\n",
    "ARI = adjusted_rand_score(atac.obs['cell_type'], atac.obs['leiden'])\n",
    "NMI = normalized_mutual_info_score(atac.obs['cell_type'],atac.obs['leiden'])\n",
    "print(\"ATAC:ARI: \"+str(ARI)+\"  \"+\"NMI: \"+str(NMI))\n",
    "\n",
    "ASW = sccross.metrics.avg_silhouette_width(combined.obsm['X_cross'],combined.obs['cell_type'])\n",
    "ASWb = sccross.metrics.avg_silhouette_width_batch(combined.obsm['X_cross'],combined.obs['domain'],combined.obs['cell_type'])\n",
    "GCT = sccross.metrics.graph_connectivity(combined.obsm['X_cross'],combined.obs['cell_type'])\n",
    "print(\"ASW: \"+str(ASW)+\"ASWb: \"+str(ASWb)+\"GCT: \"+str(GCT))\n",
    "\n",
    "a1,b1 = sccross.metrics.foscttm(rna.obsm['X_cross'],rna.obsm['X_cross_atac'])\n",
    "\n",
    "for i in [250,500,1000,2000,4000]:\n",
    "    if len(a1)>i:\n",
    "        foscttm = (a1[0:i-1].mean()+b1[0:i-1].mean())/2\n",
    "        print('FOSCTTM'+ str(i)+': '+ str(foscttm))"
   ]
  },
  {
   "cell_type": "markdown",
   "id": "f9ad6e93",
   "metadata": {},
   "source": [
    "# Cross generation"
   ]
  },
  {
   "cell_type": "code",
   "execution_count": null,
   "id": "d734e456",
   "metadata": {},
   "outputs": [],
   "source": [
    "datalist = {'rna':rna,'atac':atac}\n",
    "for key1,data1 in datalist.items():\n",
    "    for key2, data2 in datalist.items():\n",
    "        if key1 != key2:\n",
    "            cross_ge = cross.generate_cross( key1, key2, data1, data2)\n",
    "            cross_ge = sc.AnnData(cross_ge, obs=data1.obs, var=data2.var.query(\"highly_variable\"))\n",
    "            if key2 == 'atac':\n",
    "                sccross.data.lsi(cross_ge, n_components=100, n_iter=15)\n",
    "                sc.pp.neighbors(cross_ge, use_rep='X_lsi', metric=\"cosine\")\n",
    "                sc.tl.umap(cross_ge)\n",
    "                sc.pl.umap(cross_ge, color=[\"cell_type\"], save=key1 + '_to_' + key2 + '.pdf')\n",
    "            else:\n",
    "                sc.pp.normalize_total(cross_ge)\n",
    "                sc.pp.log1p(cross_ge)\n",
    "                sc.pp.scale(cross_ge)\n",
    "                sc.tl.pca(cross_ge, n_comps=100, svd_solver=\"auto\")\n",
    "                sc.pp.neighbors(cross_ge, metric=\"cosine\")\n",
    "                sc.tl.umap(cross_ge)\n",
    "                sc.pl.umap(cross_ge, color=[\"cell_type\"], save=key1 + '_to_' + key2 + '.pdf')"
   ]
  },
  {
   "cell_type": "markdown",
   "id": "69004ed9",
   "metadata": {},
   "source": [
    "# Data augmentation"
   ]
  },
  {
   "cell_type": "code",
   "execution_count": null,
   "id": "8fa00256",
   "metadata": {},
   "outputs": [],
   "source": [
    "for key, data in datalist.items():\n",
    "    data.obsm['augmented'] = cross.generate_augment(key, data)\n",
    "\n",
    "    data_augmented = sc.AnnData(data.obsm['augmented'],obs=data.obs,var = data.var.query(\"highly_variable\"))\n",
    "    if key == 'atac':\n",
    "        sccross.data.lsi(data_augmented, n_components=100, n_iter=15)\n",
    "        sc.pp.neighbors(data_augmented, use_rep='X_lsi', metric=\"cosine\")\n",
    "        sc.tl.umap(data_augmented)\n",
    "        sc.pl.umap(data_augmented, color=[\"cell_type\"], save=key + '_augment' + '.pdf')\n",
    "    else:\n",
    "        sc.pp.normalize_total(data_augmented)\n",
    "        sc.pp.log1p(data_augmented)\n",
    "        sc.pp.scale(data_augmented)\n",
    "        sc.tl.pca(data_augmented, n_comps=100, svd_solver=\"auto\")\n",
    "        sc.pp.neighbors(data_augmented, metric=\"cosine\")\n",
    "        sc.tl.umap(data_augmented)\n",
    "        sc.pl.umap(data_augmented, color=[\"cell_type\"], save=key + '_augment' + '.pdf')\n",
    "        sc.tl.rank_genes_groups(data_augmented, 'cell_type')\n",
    "        df = pd.DataFrame(data_augmented.uns['rank_genes_groups']['names'])\n",
    "        df.to_csv(key + '_augmented_rankGenes_cellType.csv')"
   ]
  },
  {
   "cell_type": "markdown",
   "id": "9380b326",
   "metadata": {},
   "source": [
    "# Multi-omics data simulation"
   ]
  },
  {
   "cell_type": "code",
   "execution_count": null,
   "id": "cf392701",
   "metadata": {},
   "outputs": [],
   "source": [
    "fold = [0.5,1,5,10]\n",
    "cell_type = list(set(rna.obs['cell_type']) & set(atac.obs['cell_type']))\n",
    "for i in fold:\n",
    "    for j in cell_type:\n",
    "        multi_simu = cross.generate_multiSim(datalist,'cell_type',j, int(i*len(rna[rna.obs['cell_type'].isin([j])])))\n",
    "        for adata in multi_simu:\n",
    "            adata.obs['cell_type'] = j + '_s'\n",
    "\n",
    "        rna_temp = rna.copy()\n",
    "        rna_temp.X = rna_temp.layers['counts']\n",
    "        rna_temp = rna_temp[:, rna_temp.var.query(\"highly_variable\").index]\n",
    "        rna_temp = sc.concat([rna_temp, multi_simu[0]])\n",
    "\n",
    "        atac_temp = atac.copy()\n",
    "        atac_temp = atac_temp[:, atac_temp.var.query(\"highly_variable\").index]\n",
    "        atac_temp = sc.concat([atac_temp, multi_simu[1]])\n",
    "\n",
    "        sc.pp.normalize_total(rna_temp)\n",
    "        sc.pp.log1p(rna_temp)\n",
    "        sc.pp.scale(rna_temp)\n",
    "        sc.tl.pca(rna_temp, n_comps=100, svd_solver=\"auto\")\n",
    "        sc.pp.neighbors(rna_temp, metric=\"cosine\")\n",
    "        sc.tl.umap(rna_temp)\n",
    "        sc.pl.umap(rna_temp, color=[\"cell_type\"], save='RNA' + j + '_' + str(i) + '.pdf')\n",
    "\n",
    "        sccross.data.lsi(atac_temp, n_components=100, n_iter=15)\n",
    "        sc.pp.neighbors(atac_temp, use_rep='X_lsi', metric=\"cosine\")\n",
    "        sc.tl.umap(atac_temp)\n",
    "        sc.pl.umap(atac_temp, color=[\"cell_type\"], save='ATAC' + j + '_' + str(i) + '.pdf')"
   ]
  }
 ],
 "metadata": {
  "kernelspec": {
   "display_name": "Python 3",
   "language": "python",
   "name": "python3"
  },
  "language_info": {
   "codemirror_mode": {
    "name": "ipython",
    "version": 3
   },
   "file_extension": ".py",
   "mimetype": "text/x-python",
   "name": "python",
   "nbconvert_exporter": "python",
   "pygments_lexer": "ipython3",
   "version": "3.7.6"
  }
 },
 "nbformat": 4,
 "nbformat_minor": 5
}
