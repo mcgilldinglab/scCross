{
 "cells": [
  {
   "cell_type": "code",
   "execution_count": null,
   "id": "077ec627",
   "metadata": {},
   "outputs": [],
   "source": [
    "import anndata\n",
    "import scanpy as sc\n",
    "import sccross\n",
    "import pandas as pd\n",
    "import numpy as np\n",
    "from matplotlib import rcParams\n",
    "from sklearn.metrics import adjusted_rand_score,normalized_mutual_info_score\n",
    "import seaborn as sns\n",
    "from matplotlib import rcParams\n",
    "from sklearn.metrics.pairwise import cosine_distances\n",
    "import gc"
   ]
  },
  {
   "cell_type": "markdown",
   "id": "cd9a7fd8",
   "metadata": {},
   "source": [
    "# Read data"
   ]
  },
  {
   "cell_type": "code",
   "execution_count": null,
   "id": "f5796163",
   "metadata": {},
   "outputs": [],
   "source": [
    "rcParams[\"figure.figsize\"] = (4, 4)\n",
    "rna = anndata.read_h5ad(\"../data/COVID-19/rna_preprocessed.h5ad\")\n",
    "adt = anndata.read_h5ad(\"../data/COVID-19/adt_preprocessed.h5ad\")"
   ]
  },
  {
   "cell_type": "markdown",
   "id": "b62ca9f4",
   "metadata": {},
   "source": [
    "# Configure data"
   ]
  },
  {
   "cell_type": "code",
   "execution_count": null,
   "id": "249e63fa",
   "metadata": {},
   "outputs": [],
   "source": [
    "sccross.models.configure_dataset(\n",
    "    rna, \"NB\", use_highly_variable=True,\n",
    "    use_layer = 'counts',\n",
    "     use_rep=\"X_pca\"\n",
    ")\n",
    "\n",
    "sccross.models.configure_dataset(\n",
    "    adt, \"NB\", use_highly_variable=True,\n",
    "    use_rep=\"X_lsi\"\n",
    ")"
   ]
  },
  {
   "cell_type": "markdown",
   "id": "38e2ec62",
   "metadata": {},
   "source": [
    "# MNN prior"
   ]
  },
  {
   "cell_type": "code",
   "execution_count": null,
   "id": "dccc4411",
   "metadata": {},
   "outputs": [],
   "source": [
    "sccross.data.mnn_prior([rna,adt])\n",
    "rna_mnn = rna.obsm['X_pca'].iloc[:,-50:]"
   ]
  },
  {
   "cell_type": "markdown",
   "id": "a7b2bb6e",
   "metadata": {},
   "source": [
    "# Training"
   ]
  },
  {
   "cell_type": "code",
   "execution_count": null,
   "id": "b5804305",
   "metadata": {},
   "outputs": [],
   "source": [
    "cross = sccross.models.fit_SCCROSS(\n",
    "    {\"rna\": rna, \"adt\": adt},\n",
    "    fit_kws={\"directory\": \"sccross\"}\n",
    ")"
   ]
  },
  {
   "cell_type": "markdown",
   "id": "848106e9",
   "metadata": {},
   "source": [
    "# Save model"
   ]
  },
  {
   "cell_type": "code",
   "execution_count": null,
   "id": "000c8bb5",
   "metadata": {},
   "outputs": [],
   "source": [
    "cross.save(\"cross.dill\")"
   ]
  },
  {
   "cell_type": "code",
   "execution_count": null,
   "id": "42981678",
   "metadata": {},
   "outputs": [],
   "source": [
    "rna.obsm[\"X_cross\"] = cross.encode_data(\"rna\", rna)\n",
    "adt.obsm[\"X_cross\"] = cross.encode_data(\"adt\", adt)"
   ]
  },
  {
   "cell_type": "markdown",
   "id": "6f090da5",
   "metadata": {},
   "source": [
    "# Perturbation"
   ]
  },
  {
   "cell_type": "code",
   "execution_count": null,
   "id": "53e0d0e0",
   "metadata": {},
   "outputs": [],
   "source": [
    "rna.X = rna.layers['counts']\n",
    "genes = rna.var.query(\"highly_variable\").index.to_numpy().tolist()\n",
    "difGenes = cross.perturbation_difGenes('rna',rna,'Status','Covid','Healthy',genes)"
   ]
  },
  {
   "cell_type": "code",
   "execution_count": null,
   "id": "9df203e3",
   "metadata": {},
   "outputs": [],
   "source": [
    "gene_up = difGenes['up'][difGenes['up']>0]\n",
    "gene_down = difGenes['down'][difGenes['down']>0]\n",
    "rna[rna.obs['Status'].isin(['Healthy']),gene_down].X += 0.5*rna[rna.obs['Status'].isin(['Healthy']),gene_down].X\n",
    "rna[rna.obs['Status'].isin(['Healthy']),gene_up].X -= 0.5*rna[rna.obs['Status'].isin(['Healthy']),gene_up].X\n",
    "rnaCroadt = cross.generate_cross( 'rna', 'adt', rna, adt)\n",
    "rnaCroadt = sc.AnnData(rnaCroadt,obs=rna.obs,var= adt.var.query(\"highly_variable\"))\n",
    "print(rnaCroadt.X)"
   ]
  },
  {
   "cell_type": "code",
   "execution_count": null,
   "id": "b4db9366",
   "metadata": {},
   "outputs": [],
   "source": [
    "rna = anndata.read_h5ad(\"../data/COVID-19/rna_preprocessed.h5ad\")\n",
    "rna_temp = rna_mnn\n",
    "rna_i = rna.copy()\n",
    "rna_i.X = rna_i.layers['raw']\n",
    "sc.pp.highly_variable_genes(rna_i, n_top_genes=100, flavor=\"seurat_v3\")\n",
    "hl = rna_i.var.index[rna_i.var['highly_variable']]\n",
    "del rna_i\n",
    "gc.collect()"
   ]
  },
  {
   "cell_type": "code",
   "execution_count": null,
   "id": "c6c24164",
   "metadata": {},
   "outputs": [],
   "source": [
    "rna.obsm['X_pca'] = np.concatenate((rna.obsm['X_pca'],rna_temp.obsm['X_pca']),axis=1)\n",
    "rna.obs['domain'] = 'scRNA-seq'\n",
    "rna.obs['cell_type'] = rna.obs['initial_clustering']\n",
    "rna_t = rna_temp.copy()\n",
    "rna_k = rna.copy()\n",
    "rna = []\n",
    "for j in list(rna_k.obs['initial_clustering'].cat.categories):\n",
    "    rna = rna_k[rna_k.obs['initial_clustering'].isin([j])]\n",
    "    rna_temp = rna_t[rna_t.obs['initial_clustering'].isin([j])]\n",
    "\n",
    "    rna.obsm[\"X_cross\"] = cross.encode_data(\"rna\", rna)\n",
    "\n",
    "    if len(rna[rna.obs['Status'] == \"Covid\"].obsm[\"X_cross\"]) == 0 or len(rna[rna.obs['Status'] == \"Healthy\"].obsm[\"X_cross\"]) == 0 or len(rna.obsm[\"X_cross\"])<100:\n",
    "        del rna\n",
    "        gc.collect()\n",
    "        continue\n",
    "\n",
    "    cos_o = cosine_distances(rna[rna.obs['Status'] == \"Covid\"].obsm[\"X_cross\"],rna[rna.obs['Status'] == \"Healthy\"].obsm[\"X_cross\"])\n",
    "\n",
    "    cos_o = cos_o.mean()\n",
    "\n",
    "    data = []\n",
    "\n",
    "\n",
    "    for i in range(5):\n",
    "      for gene in hl[20*i:20*(i+1)]:\n",
    "        temp = []\n",
    "        temp.append(gene)\n",
    "        rna_u = rna.copy()\n",
    "        rna_u.X = rna.layers[\"raw\"]\n",
    "        rna_u.X = np.array(rna_u.X.todense())\n",
    "        rna_u[:, gene].X += 1\n",
    "        sc.pp.normalize_total(rna_u)\n",
    "        sc.pp.log1p(rna_u)\n",
    "        sc.pp.scale(rna_u)\n",
    "        sc.tl.pca(rna_u, n_comps=100)\n",
    "        rna_u.obsm['X_pca'] = np.concatenate((rna_u.obsm['X_pca'], rna_temp.obsm['X_pca']), axis=1)\n",
    "\n",
    "\n",
    "        rna_u.obsm[\"X_cross\"] = cross.encode_data(\"rna\", rna_u)\n",
    "\n",
    "        cos_u = cosine_distances(\n",
    "            rna_u[rna_u.obs['Status'] == \"Covid\"].obsm[\"X_cross\"],\n",
    "            rna[rna_u.obs['Status'] == \"Healthy\"].obsm[\"X_cross\"],\n",
    "        )\n",
    "\n",
    "        temp.append(cos_o-cos_u.mean())\n",
    "        del rna_u\n",
    "        gc.collect()\n",
    "\n",
    "        rna_d = rna.copy()\n",
    "        rna_d.X = rna.layers[\"raw\"]\n",
    "        rna_d.X = np.array(rna_d.X.todense())\n",
    "        rna_d[:, gene].X -= 1\n",
    "        rna_d.X[np.where(rna_d.X<0.0)] = 0\n",
    "        sc.pp.normalize_total(rna_d)\n",
    "        sc.pp.log1p(rna_d)\n",
    "        sc.pp.scale(rna_d)\n",
    "        sc.tl.pca(rna_d, n_comps=100)\n",
    "        rna_d.obsm['X_pca'] = np.concatenate((rna_d.obsm['X_pca'], rna_temp.obsm['X_pca']), axis=1)\n",
    "\n",
    "\n",
    "        rna_d.obsm[\"X_cross\"] = cross.encode_data(\"rna\", rna_d)\n",
    "        cos_d = cosine_distances(\n",
    "            rna_d[rna_d.obs['Status'] == \"Covid\"].obsm[\"X_cross\"],\n",
    "            rna[rna_d.obs['Status'] == \"Healthy\"].obsm[\"X_cross\"],\n",
    "        )\n",
    "        temp.append(cos_o-cos_d.mean())\n",
    "        data.append(temp)\n",
    "        del rna_d\n",
    "        gc.collect()\n",
    "\n",
    "    df = pd.DataFrame(data,columns=['gene','up','down'])\n",
    "    df.to_csv('up_down_'+j+'.csv')\n"
   ]
  }
 ],
 "metadata": {
  "kernelspec": {
   "display_name": "Python 3",
   "language": "python",
   "name": "python3"
  },
  "language_info": {
   "codemirror_mode": {
    "name": "ipython",
    "version": 3
   },
   "file_extension": ".py",
   "mimetype": "text/x-python",
   "name": "python",
   "nbconvert_exporter": "python",
   "pygments_lexer": "ipython3",
   "version": "3.7.6"
  }
 },
 "nbformat": 4,
 "nbformat_minor": 5
}
